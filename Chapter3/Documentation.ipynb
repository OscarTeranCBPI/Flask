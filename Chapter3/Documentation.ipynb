{
 "cells": [
  {
   "cell_type": "markdown",
   "metadata": {},
   "source": [
    "### Flask Documentation\n",
    "\n",
    "**Authors:** Oscar Hernández Terán\n",
    "\n",
    "**Date:** October 20, 2022"
   ]
  },
  {
   "cell_type": "markdown",
   "metadata": {},
   "source": [
    "The key to writing applications that are easy to maintain is to write clean and well-\n",
    "structured code.\n",
    "\n",
    "**Jinja2 variable filters**\n",
    "![](images/Tabla3-1.png)\n",
    "\n",
    "Documentation:\n",
    "\n",
    "[Jinja2 Documentation](https://jinja.palletsprojects.com/en/3.1.x/templates/#builtin-filters)"
   ]
  },
  {
   "cell_type": "markdown",
   "metadata": {},
   "source": [
    "#### Control structures\n",
    "The following example shows how conditional statements can be entered in a\n",
    "template:\n",
    "```python\n",
    "{% if user %}\n",
    "Hello, {{ user }}!\n",
    "    {% else %}\n",
    "Hello, Stranger!\n",
    "    {% endif %}\n",
    "```\n",
    "\n",
    "\n",
    "```python\n",
    "<ul>\n",
    "{% for comment in comments %}\n",
    "    <li>{{ comment }}</li>\n",
    "{% endfor %}\n",
    "</ul>\n",
    "```"
   ]
  },
  {
   "cell_type": "markdown",
   "metadata": {},
   "source": [
    "Portions of template code that need to be repeated in several places can be stored in a\n",
    "separate file and included from all the templates to avoid repetition:\n",
    "```python\n",
    "{% include 'common.html' %}\n",
    "```"
   ]
  },
  {
   "cell_type": "markdown",
   "metadata": {},
   "source": [
    "### Bootstrap Integration with Flask-Bootstrap"
   ]
  },
  {
   "cell_type": "markdown",
   "metadata": {},
   "source": [
    "The extension is called Flask-Bootstrap, and it can be installed with pip:\n",
    "```bash\n",
    "(venv) $ pip install flask-bootstrap\n",
    "```\n",
    "\n",
    "```python\n",
    "from flask_bootstrap import Bootstrap\n",
    "# ...\n",
    "bootstrap = Bootstrap(app)\n",
    "```\n",
    "\n",
    "The user.html template defines three blocks called title, navbar, and content."
   ]
  },
  {
   "cell_type": "markdown",
   "metadata": {},
   "source": [
    "### Localization of Dates and Times with Flask-Moment\n",
    "\n",
    "```bash\n",
    "(venv) $ pip install flask-moment\n",
    "```\n",
    "The extension is initialized in a similar way to Flask-Bootstrap. The required code is\n",
    "shown in Example 3-11.\n",
    "\n",
    "```python\n",
    "from flask_moment import Moment\n",
    "moment = Moment(app)\n",
    "```\n",
    "\n",
    "```python\n",
    "from datetime import datetime\n",
    "@app.route('/')\n",
    "\n",
    "def index():\n",
    "    return render_template('index.html',\n",
    "                            current_time=datetime.utcnow())\n",
    "```\n"
   ]
  }
 ],
 "metadata": {
  "kernelspec": {
   "display_name": "Python 3.10.7 64-bit",
   "language": "python",
   "name": "python3"
  },
  "language_info": {
   "codemirror_mode": {
    "name": "ipython",
    "version": 3
   },
   "file_extension": ".py",
   "mimetype": "text/x-python",
   "name": "python",
   "nbconvert_exporter": "python",
   "pygments_lexer": "ipython3",
   "version": "3.10.7"
  },
  "orig_nbformat": 4,
  "vscode": {
   "interpreter": {
    "hash": "e7370f93d1d0cde622a1f8e1c04877d8463912d04d973331ad4851f04de6915a"
   }
  }
 },
 "nbformat": 4,
 "nbformat_minor": 2
}
