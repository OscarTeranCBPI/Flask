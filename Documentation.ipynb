{
 "cells": [
  {
   "cell_type": "markdown",
   "metadata": {},
   "source": [
    "### Flask Documentation\n",
    "\n",
    "**Authors:** Oscar Hernández Terán\n",
    "\n",
    "**Date:** October 11, 2022"
   ]
  },
  {
   "cell_type": "markdown",
   "metadata": {},
   "source": [
    "- *Inizialitation* \n",
    "```python\n",
    "from flask import Flask\n",
    "app = Flask(__name__)\n",
    "```\n",
    "\n",
    "- *Routes*\n",
    "```python\n",
    "@app.route('/')\n",
    "def index():\n",
    "    return '<h1>Hello World!</h1>'\n",
    "```\n",
    "\n",
    "- *Another ways of routes*\n",
    "```python\n",
    "app.add_url_rule('/', 'index', index)\n",
    "```\n",
    "\n",
    "- *EndPoints*\n",
    "```python\n",
    "@app.route('/user/<name>')\n",
    "def user(name):\n",
    "    return '<h1>Hello, {}!</h1>'.format(name)\n",
    "```\n"
   ]
  },
  {
   "cell_type": "markdown",
   "metadata": {},
   "source": [
    "Flask applications include a development web server that can be started with the\n",
    "flask run command.\n",
    "\n",
    "```python\n",
    "(venv) $ export FLASK_APP=hello.py\n",
    "(venv) $ flask run\n",
    "```\n",
    "\n",
    "Flask applications can optionally be executed in debug mode.\n",
    "```python\n",
    "(venv) $ export FLASK_APP=hello.py\n",
    "(venv) $ export FLASK_DEBUG=1\n",
    "(venv) $ flask run\n",
    "```"
   ]
  },
  {
   "cell_type": "markdown",
   "metadata": {},
   "source": [
    "**Flask Help**\n",
    "```python\n",
    "(venv) $ flask --help\n",
    "(venv) $ flask run --help\n",
    "(venv) $ flask run --host 0.0.0.0\n",
    "```"
   ]
  },
  {
   "cell_type": "markdown",
   "metadata": {},
   "source": [
    "- *Application and Request Contexts*\n",
    "```python\n",
    "from flask import request\n",
    "\n",
    "@app.route('/')\n",
    "def index():\n",
    "    user_agent = request.headers.get('User-Agent')\n",
    "    return '<p>Your browser is {}</p>'.format(user_agent)\n",
    "```"
   ]
  },
  {
   "cell_type": "markdown",
   "metadata": {},
   "source": [
    "- *Flask Context global*\n",
    "\n",
    "![](images/Tabla2.1.png)\n",
    "\n",
    "\n",
    "- *Flask Request Object*\n",
    "\n",
    "![](images/Tabla2.2a.png)\n",
    "\n",
    "![](images/Tabla2.2b.png)\n",
    "\n",
    "\n",
    "- *Flask Response Object*\n",
    "\n",
    "![](images/Tabla2.3.png)"
   ]
  },
  {
   "cell_type": "markdown",
   "metadata": {},
   "source": [
    "- *Responses*\n",
    "```python\n",
    "@app.route('/')\n",
    "def index():\n",
    "return '<h1>Bad Request</h1>', 400\n",
    "```\n",
    "\n",
    "\n",
    "```python\n",
    "from flask import make_response\n",
    "@app.route('/')\n",
    "def index():\n",
    "    response = make_response('<h1>This document carries a cookie!</h1>')\n",
    "    response.set_cookie('answer', '42')\n",
    "    return response\n",
    "```\n",
    "\n",
    "\n",
    "```python\n",
    "from flask import redirect\n",
    "@app.route('/')\n",
    "def index():\n",
    "    return redirect('http://www.example.com')\n",
    "```\n",
    "\n",
    "\n",
    "```python\n",
    "from flask import abort\n",
    "@app.route('/user/<id>')\n",
    "def get_user(id):\n",
    "    user = load_user(id)\n",
    "    if not user:\n",
    "        abort(404)\n",
    "        return '<h1>Hello, {}</h1>'.format(user.name)\n",
    "```"
   ]
  }
 ],
 "metadata": {
  "kernelspec": {
   "display_name": "Python 3.10.6 64-bit",
   "language": "python",
   "name": "python3"
  },
  "language_info": {
   "name": "python",
   "version": "3.10.6"
  },
  "orig_nbformat": 4,
  "vscode": {
   "interpreter": {
    "hash": "916dbcbb3f70747c44a77c7bcd40155683ae19c65e1c03b4aa3499c5328201f1"
   }
  }
 },
 "nbformat": 4,
 "nbformat_minor": 2
}
