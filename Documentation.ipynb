{
 "cells": [
  {
   "cell_type": "markdown",
   "metadata": {},
   "source": [
    "### Flask Documentation\n",
    "\n",
    "**Authors:** Oscar Hernández Terán\n",
    "\n",
    "**Date:** October 11, 2022"
   ]
  },
  {
   "cell_type": "markdown",
   "metadata": {},
   "source": [
    "- *Inizialitation* \n",
    "```python\n",
    "from flask import Flask\n",
    "app = Flask(__name__)\n",
    "```\n",
    "\n",
    "- *Routes*\n",
    "```python\n",
    "@app.route('/')\n",
    "def index():\n",
    "    return '<h1>Hello World!</h1>'\n",
    "```\n",
    "\n",
    "- *Another ways of routes*\n",
    "```python\n",
    "app.add_url_rule('/', 'index', index)\n",
    "```\n",
    "\n",
    "- *EndPoints*\n",
    "```python\n",
    "@app.route('/user/<name>')\n",
    "def user(name):\n",
    "    return '<h1>Hello, {}!</h1>'.format(name)\n",
    "```\n"
   ]
  },
  {
   "cell_type": "markdown",
   "metadata": {},
   "source": [
    "Flask applications include a development web server that can be started with the\n",
    "flask run command.\n",
    "\n",
    "```python\n",
    "(venv) $ export FLASK_APP=hello.py\n",
    "(venv) $ flask run\n",
    "```\n",
    "\n",
    "Flask applications can optionally be executed in debug mode.\n",
    "```python\n",
    "(venv) $ export FLASK_APP=hello.py\n",
    "(venv) $ export FLASK_DEBUG=1\n",
    "(venv) $ flask run\n",
    "```"
   ]
  },
  {
   "cell_type": "markdown",
   "metadata": {},
   "source": [
    "**Flask Help**\n",
    "```python\n",
    "(venv) $ flask --help\n",
    "(venv) $ flask run --help\n",
    "(venv) $ flask run --host 0.0.0.0\n",
    "```"
   ]
  },
  {
   "cell_type": "markdown",
   "metadata": {},
   "source": [
    "- *Application and Request Contexts*\n",
    "```python\n",
    "from flask import request\n",
    "\n",
    "@app.route('/')\n",
    "def index():\n",
    "    user_agent = request.headers.get('User-Agent')\n",
    "    return '<p>Your browser is {}</p>'.format(user_agent)\n",
    "```"
   ]
  },
  {
   "cell_type": "markdown",
   "metadata": {},
   "source": []
  }
 ],
 "metadata": {
  "kernelspec": {
   "display_name": "Python 3.10.6 64-bit",
   "language": "python",
   "name": "python3"
  },
  "language_info": {
   "name": "python",
   "version": "3.10.6"
  },
  "orig_nbformat": 4,
  "vscode": {
   "interpreter": {
    "hash": "916dbcbb3f70747c44a77c7bcd40155683ae19c65e1c03b4aa3499c5328201f1"
   }
  }
 },
 "nbformat": 4,
 "nbformat_minor": 2
}
